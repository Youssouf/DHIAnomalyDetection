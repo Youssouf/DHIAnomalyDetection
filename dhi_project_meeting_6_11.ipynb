{
 "cells": [
  {
   "cell_type": "code",
   "execution_count": 11,
   "metadata": {},
   "outputs": [
    {
     "data": {
      "text/html": [
       "        <script type=\"text/javascript\">\n",
       "        window.PlotlyConfig = {MathJaxConfig: 'local'};\n",
       "        if (window.MathJax) {MathJax.Hub.Config({SVG: {font: \"STIX-Web\"}});}\n",
       "        if (typeof require !== 'undefined') {\n",
       "        require.undef(\"plotly\");\n",
       "        requirejs.config({\n",
       "            paths: {\n",
       "                'plotly': ['https://cdn.plot.ly/plotly-latest.min']\n",
       "            }\n",
       "        });\n",
       "        require(['plotly'], function(Plotly) {\n",
       "            window._Plotly = Plotly;\n",
       "        });\n",
       "        }\n",
       "        </script>\n",
       "        "
      ]
     },
     "metadata": {},
     "output_type": "display_data"
    },
    {
     "data": {
      "text/html": [
       "        <script type=\"text/javascript\">\n",
       "        window.PlotlyConfig = {MathJaxConfig: 'local'};\n",
       "        if (window.MathJax) {MathJax.Hub.Config({SVG: {font: \"STIX-Web\"}});}\n",
       "        if (typeof require !== 'undefined') {\n",
       "        require.undef(\"plotly\");\n",
       "        requirejs.config({\n",
       "            paths: {\n",
       "                'plotly': ['https://cdn.plot.ly/plotly-latest.min']\n",
       "            }\n",
       "        });\n",
       "        require(['plotly'], function(Plotly) {\n",
       "            window._Plotly = Plotly;\n",
       "        });\n",
       "        }\n",
       "        </script>\n",
       "        "
      ]
     },
     "metadata": {},
     "output_type": "display_data"
    },
    {
     "name": "stdout",
     "output_type": "stream",
     "text": [
      "Requirement already satisfied: import_ipynb in c:\\programdata\\anaconda3\\lib\\site-packages (0.1.3)\n"
     ]
    }
   ],
   "source": [
    "import numpy as np\n",
    "import pandas as pd\n",
    "import matplotlib.pyplot as plt\n",
    "from matplotlib import dates\n",
    "import seaborn as sns\n",
    "import matplotlib.dates as mdates\n",
    "from matplotlib.dates import DateFormatter\n",
    "from datetime import datetime\n",
    "import dhi_project  \n",
    "import random\n",
    "%matplotlib inline\n",
    "\n",
    "%run dhi_project.ipynb \n",
    "!pip install import_ipynb"
   ]
  },
  {
   "cell_type": "code",
   "execution_count": 12,
   "metadata": {},
   "outputs": [
    {
     "data": {
      "text/html": [
       "        <script type=\"text/javascript\">\n",
       "        window.PlotlyConfig = {MathJaxConfig: 'local'};\n",
       "        if (window.MathJax) {MathJax.Hub.Config({SVG: {font: \"STIX-Web\"}});}\n",
       "        if (typeof require !== 'undefined') {\n",
       "        require.undef(\"plotly\");\n",
       "        requirejs.config({\n",
       "            paths: {\n",
       "                'plotly': ['https://cdn.plot.ly/plotly-latest.min']\n",
       "            }\n",
       "        });\n",
       "        require(['plotly'], function(Plotly) {\n",
       "            window._Plotly = Plotly;\n",
       "        });\n",
       "        }\n",
       "        </script>\n",
       "        "
      ]
     },
     "metadata": {},
     "output_type": "display_data"
    },
    {
     "data": {
      "text/html": [
       "        <script type=\"text/javascript\">\n",
       "        window.PlotlyConfig = {MathJaxConfig: 'local'};\n",
       "        if (window.MathJax) {MathJax.Hub.Config({SVG: {font: \"STIX-Web\"}});}\n",
       "        if (typeof require !== 'undefined') {\n",
       "        require.undef(\"plotly\");\n",
       "        requirejs.config({\n",
       "            paths: {\n",
       "                'plotly': ['https://cdn.plot.ly/plotly-latest.min']\n",
       "            }\n",
       "        });\n",
       "        require(['plotly'], function(Plotly) {\n",
       "            window._Plotly = Plotly;\n",
       "        });\n",
       "        }\n",
       "        </script>\n",
       "        "
      ]
     },
     "metadata": {},
     "output_type": "display_data"
    }
   ],
   "source": [
    "import cufflinks as cf\n",
    "import plotly.graph_objs as go\n",
    "import plotly.offline as py\n",
    "import plotly.express as px\n",
    "from plotly.offline import download_plotlyjs, init_notebook_mode, plot, iplot\n",
    "init_notebook_mode(connected= True)\n",
    "cf.go_offline()"
   ]
  },
  {
   "cell_type": "code",
   "execution_count": null,
   "metadata": {},
   "outputs": [],
   "source": []
  },
  {
   "cell_type": "code",
   "execution_count": 13,
   "metadata": {},
   "outputs": [],
   "source": [
    "raw_df = pd.read_csv('ft82_20140101_20170101_origin.csv')  # origin  data loaded\n",
    "raw_df.rename(columns={\"Unnamed: 0\" : \"DATE\", \"0\" : \"WFLOW\"}, inplace= True)\n",
    "raw_df['DATE'] = pd.to_datetime(raw_df['DATE']) # Convert data type to timestamp \n",
    "raw_df.set_index('DATE', inplace= True) # Set the index to be Datetime\n"
   ]
  },
  {
   "cell_type": "code",
   "execution_count": 14,
   "metadata": {},
   "outputs": [
    {
     "data": {
      "text/plain": [
       "532"
      ]
     },
     "execution_count": 14,
     "metadata": {},
     "output_type": "execute_result"
    }
   ],
   "source": [
    "df = raw_df.copy(deep=True) # copy raw_df into  df\n",
    "len(df[df['WFLOW']==0.0])"
   ]
  },
  {
   "cell_type": "markdown",
   "metadata": {},
   "source": [
    "## Reindexing of dataset\n",
    "We can call ***reindex()*** on the dataset using the new index list ****idx_list*** "
   ]
  },
  {
   "cell_type": "code",
   "execution_count": 15,
   "metadata": {},
   "outputs": [],
   "source": [
    "# index ordering\n",
    "idxmin =np.min(df.index)  # min index or start index\n",
    "idxmax =np.max(df.index) # max index or end inndex\n",
    "idx_list = pd.date_range(idxmin, idxmax, freq= '1min') # index with one minute frequence\n",
    "\n",
    "# set new index for dataset\n",
    "df = df.reindex(idx_list)\n",
    "df['DATE'] = df.index\n",
    "df.set_index('DATE', inplace = True)\n",
    "#print('Number of missing records: {} '.format(df.isna().sum()))\n",
    "#df.head(10)"
   ]
  },
  {
   "cell_type": "code",
   "execution_count": 16,
   "metadata": {},
   "outputs": [
    {
     "data": {
      "text/html": [
       "<div>\n",
       "<style scoped>\n",
       "    .dataframe tbody tr th:only-of-type {\n",
       "        vertical-align: middle;\n",
       "    }\n",
       "\n",
       "    .dataframe tbody tr th {\n",
       "        vertical-align: top;\n",
       "    }\n",
       "\n",
       "    .dataframe thead th {\n",
       "        text-align: right;\n",
       "    }\n",
       "</style>\n",
       "<table border=\"1\" class=\"dataframe\">\n",
       "  <thead>\n",
       "    <tr style=\"text-align: right;\">\n",
       "      <th></th>\n",
       "      <th>WFLOW</th>\n",
       "    </tr>\n",
       "    <tr>\n",
       "      <th>DATE</th>\n",
       "      <th></th>\n",
       "    </tr>\n",
       "  </thead>\n",
       "  <tbody>\n",
       "    <tr>\n",
       "      <td>2014-01-01 00:01:00</td>\n",
       "      <td>642.719788</td>\n",
       "    </tr>\n",
       "    <tr>\n",
       "      <td>2014-01-01 00:02:00</td>\n",
       "      <td>626.239807</td>\n",
       "    </tr>\n",
       "    <tr>\n",
       "      <td>2014-01-01 00:03:00</td>\n",
       "      <td>647.663818</td>\n",
       "    </tr>\n",
       "    <tr>\n",
       "      <td>2014-01-01 00:04:00</td>\n",
       "      <td>672.383789</td>\n",
       "    </tr>\n",
       "    <tr>\n",
       "      <td>2014-01-01 00:05:00</td>\n",
       "      <td>672.383789</td>\n",
       "    </tr>\n",
       "    <tr>\n",
       "      <td>...</td>\n",
       "      <td>...</td>\n",
       "    </tr>\n",
       "    <tr>\n",
       "      <td>2016-12-31 23:56:00</td>\n",
       "      <td>753.135803</td>\n",
       "    </tr>\n",
       "    <tr>\n",
       "      <td>2016-12-31 23:57:00</td>\n",
       "      <td>NaN</td>\n",
       "    </tr>\n",
       "    <tr>\n",
       "      <td>2016-12-31 23:58:00</td>\n",
       "      <td>731.711792</td>\n",
       "    </tr>\n",
       "    <tr>\n",
       "      <td>2016-12-31 23:59:00</td>\n",
       "      <td>748.191772</td>\n",
       "    </tr>\n",
       "    <tr>\n",
       "      <td>2017-01-01 00:00:00</td>\n",
       "      <td>739.951782</td>\n",
       "    </tr>\n",
       "  </tbody>\n",
       "</table>\n",
       "<p>1578240 rows × 1 columns</p>\n",
       "</div>"
      ],
      "text/plain": [
       "                          WFLOW\n",
       "DATE                           \n",
       "2014-01-01 00:01:00  642.719788\n",
       "2014-01-01 00:02:00  626.239807\n",
       "2014-01-01 00:03:00  647.663818\n",
       "2014-01-01 00:04:00  672.383789\n",
       "2014-01-01 00:05:00  672.383789\n",
       "...                         ...\n",
       "2016-12-31 23:56:00  753.135803\n",
       "2016-12-31 23:57:00         NaN\n",
       "2016-12-31 23:58:00  731.711792\n",
       "2016-12-31 23:59:00  748.191772\n",
       "2017-01-01 00:00:00  739.951782\n",
       "\n",
       "[1578240 rows x 1 columns]"
      ]
     },
     "execution_count": 16,
     "metadata": {},
     "output_type": "execute_result"
    }
   ],
   "source": [
    "reindex_df = df.copy(deep=True) # copy of dataset after reindexing\n",
    "\n",
    "df"
   ]
  },
  {
   "cell_type": "markdown",
   "metadata": {},
   "source": [
    "## Consecutive NaN Groups"
   ]
  },
  {
   "cell_type": "code",
   "execution_count": 20,
   "metadata": {},
   "outputs": [
    {
     "data": {
      "text/html": [
       "<div>\n",
       "<style scoped>\n",
       "    .dataframe tbody tr th:only-of-type {\n",
       "        vertical-align: middle;\n",
       "    }\n",
       "\n",
       "    .dataframe tbody tr th {\n",
       "        vertical-align: top;\n",
       "    }\n",
       "\n",
       "    .dataframe thead th {\n",
       "        text-align: right;\n",
       "    }\n",
       "</style>\n",
       "<table border=\"1\" class=\"dataframe\">\n",
       "  <thead>\n",
       "    <tr style=\"text-align: right;\">\n",
       "      <th></th>\n",
       "      <th>NaNType</th>\n",
       "      <th>NaNFrequency</th>\n",
       "      <th>Consec_Nan_Types</th>\n",
       "      <th>length_in_mn</th>\n",
       "      <th>length_in_hrs</th>\n",
       "      <th>length_in_day</th>\n",
       "    </tr>\n",
       "  </thead>\n",
       "  <tbody>\n",
       "    <tr>\n",
       "      <td>0</td>\n",
       "      <td>1</td>\n",
       "      <td>21528</td>\n",
       "      <td>nan x 1</td>\n",
       "      <td>21528</td>\n",
       "      <td>358.80</td>\n",
       "      <td>14.95</td>\n",
       "    </tr>\n",
       "    <tr>\n",
       "      <td>1</td>\n",
       "      <td>2</td>\n",
       "      <td>710</td>\n",
       "      <td>nan x 2</td>\n",
       "      <td>1420</td>\n",
       "      <td>23.67</td>\n",
       "      <td>0.99</td>\n",
       "    </tr>\n",
       "    <tr>\n",
       "      <td>2</td>\n",
       "      <td>14</td>\n",
       "      <td>315</td>\n",
       "      <td>nan x 14</td>\n",
       "      <td>4410</td>\n",
       "      <td>73.50</td>\n",
       "      <td>3.06</td>\n",
       "    </tr>\n",
       "    <tr>\n",
       "      <td>3</td>\n",
       "      <td>3</td>\n",
       "      <td>68</td>\n",
       "      <td>nan x 3</td>\n",
       "      <td>204</td>\n",
       "      <td>3.40</td>\n",
       "      <td>0.14</td>\n",
       "    </tr>\n",
       "    <tr>\n",
       "      <td>4</td>\n",
       "      <td>4</td>\n",
       "      <td>24</td>\n",
       "      <td>nan x 4</td>\n",
       "      <td>96</td>\n",
       "      <td>1.60</td>\n",
       "      <td>0.07</td>\n",
       "    </tr>\n",
       "    <tr>\n",
       "      <td>5</td>\n",
       "      <td>5</td>\n",
       "      <td>21</td>\n",
       "      <td>nan x 5</td>\n",
       "      <td>105</td>\n",
       "      <td>1.75</td>\n",
       "      <td>0.07</td>\n",
       "    </tr>\n",
       "    <tr>\n",
       "      <td>6</td>\n",
       "      <td>6</td>\n",
       "      <td>21</td>\n",
       "      <td>nan x 6</td>\n",
       "      <td>126</td>\n",
       "      <td>2.10</td>\n",
       "      <td>0.09</td>\n",
       "    </tr>\n",
       "    <tr>\n",
       "      <td>7</td>\n",
       "      <td>7</td>\n",
       "      <td>11</td>\n",
       "      <td>nan x 7</td>\n",
       "      <td>77</td>\n",
       "      <td>1.28</td>\n",
       "      <td>0.05</td>\n",
       "    </tr>\n",
       "    <tr>\n",
       "      <td>8</td>\n",
       "      <td>8</td>\n",
       "      <td>11</td>\n",
       "      <td>nan x 8</td>\n",
       "      <td>88</td>\n",
       "      <td>1.47</td>\n",
       "      <td>0.06</td>\n",
       "    </tr>\n",
       "    <tr>\n",
       "      <td>9</td>\n",
       "      <td>9</td>\n",
       "      <td>7</td>\n",
       "      <td>nan x 9</td>\n",
       "      <td>63</td>\n",
       "      <td>1.05</td>\n",
       "      <td>0.04</td>\n",
       "    </tr>\n",
       "    <tr>\n",
       "      <td>10</td>\n",
       "      <td>12</td>\n",
       "      <td>7</td>\n",
       "      <td>nan x 12</td>\n",
       "      <td>84</td>\n",
       "      <td>1.40</td>\n",
       "      <td>0.06</td>\n",
       "    </tr>\n",
       "    <tr>\n",
       "      <td>11</td>\n",
       "      <td>11</td>\n",
       "      <td>6</td>\n",
       "      <td>nan x 11</td>\n",
       "      <td>66</td>\n",
       "      <td>1.10</td>\n",
       "      <td>0.05</td>\n",
       "    </tr>\n",
       "    <tr>\n",
       "      <td>12</td>\n",
       "      <td>10</td>\n",
       "      <td>4</td>\n",
       "      <td>nan x 10</td>\n",
       "      <td>40</td>\n",
       "      <td>0.67</td>\n",
       "      <td>0.03</td>\n",
       "    </tr>\n",
       "    <tr>\n",
       "      <td>13</td>\n",
       "      <td>13</td>\n",
       "      <td>4</td>\n",
       "      <td>nan x 13</td>\n",
       "      <td>52</td>\n",
       "      <td>0.87</td>\n",
       "      <td>0.04</td>\n",
       "    </tr>\n",
       "    <tr>\n",
       "      <td>14</td>\n",
       "      <td>60</td>\n",
       "      <td>3</td>\n",
       "      <td>nan x 60</td>\n",
       "      <td>180</td>\n",
       "      <td>3.00</td>\n",
       "      <td>0.12</td>\n",
       "    </tr>\n",
       "    <tr>\n",
       "      <td>15</td>\n",
       "      <td>22</td>\n",
       "      <td>2</td>\n",
       "      <td>nan x 22</td>\n",
       "      <td>44</td>\n",
       "      <td>0.73</td>\n",
       "      <td>0.03</td>\n",
       "    </tr>\n",
       "    <tr>\n",
       "      <td>16</td>\n",
       "      <td>18</td>\n",
       "      <td>2</td>\n",
       "      <td>nan x 18</td>\n",
       "      <td>36</td>\n",
       "      <td>0.60</td>\n",
       "      <td>0.02</td>\n",
       "    </tr>\n",
       "    <tr>\n",
       "      <td>17</td>\n",
       "      <td>25</td>\n",
       "      <td>2</td>\n",
       "      <td>nan x 25</td>\n",
       "      <td>50</td>\n",
       "      <td>0.83</td>\n",
       "      <td>0.03</td>\n",
       "    </tr>\n",
       "    <tr>\n",
       "      <td>18</td>\n",
       "      <td>388</td>\n",
       "      <td>1</td>\n",
       "      <td>nan x 388</td>\n",
       "      <td>388</td>\n",
       "      <td>6.47</td>\n",
       "      <td>0.27</td>\n",
       "    </tr>\n",
       "    <tr>\n",
       "      <td>19</td>\n",
       "      <td>4134</td>\n",
       "      <td>1</td>\n",
       "      <td>nan x 4134</td>\n",
       "      <td>4134</td>\n",
       "      <td>68.90</td>\n",
       "      <td>2.87</td>\n",
       "    </tr>\n",
       "    <tr>\n",
       "      <td>20</td>\n",
       "      <td>51</td>\n",
       "      <td>1</td>\n",
       "      <td>nan x 51</td>\n",
       "      <td>51</td>\n",
       "      <td>0.85</td>\n",
       "      <td>0.04</td>\n",
       "    </tr>\n",
       "    <tr>\n",
       "      <td>21</td>\n",
       "      <td>835</td>\n",
       "      <td>1</td>\n",
       "      <td>nan x 835</td>\n",
       "      <td>835</td>\n",
       "      <td>13.92</td>\n",
       "      <td>0.58</td>\n",
       "    </tr>\n",
       "    <tr>\n",
       "      <td>22</td>\n",
       "      <td>227</td>\n",
       "      <td>1</td>\n",
       "      <td>nan x 227</td>\n",
       "      <td>227</td>\n",
       "      <td>3.78</td>\n",
       "      <td>0.16</td>\n",
       "    </tr>\n",
       "    <tr>\n",
       "      <td>23</td>\n",
       "      <td>69</td>\n",
       "      <td>1</td>\n",
       "      <td>nan x 69</td>\n",
       "      <td>69</td>\n",
       "      <td>1.15</td>\n",
       "      <td>0.05</td>\n",
       "    </tr>\n",
       "    <tr>\n",
       "      <td>24</td>\n",
       "      <td>513</td>\n",
       "      <td>1</td>\n",
       "      <td>nan x 513</td>\n",
       "      <td>513</td>\n",
       "      <td>8.55</td>\n",
       "      <td>0.36</td>\n",
       "    </tr>\n",
       "    <tr>\n",
       "      <td>25</td>\n",
       "      <td>97</td>\n",
       "      <td>1</td>\n",
       "      <td>nan x 97</td>\n",
       "      <td>97</td>\n",
       "      <td>1.62</td>\n",
       "      <td>0.07</td>\n",
       "    </tr>\n",
       "    <tr>\n",
       "      <td>26</td>\n",
       "      <td>49</td>\n",
       "      <td>1</td>\n",
       "      <td>nan x 49</td>\n",
       "      <td>49</td>\n",
       "      <td>0.82</td>\n",
       "      <td>0.03</td>\n",
       "    </tr>\n",
       "    <tr>\n",
       "      <td>27</td>\n",
       "      <td>21</td>\n",
       "      <td>1</td>\n",
       "      <td>nan x 21</td>\n",
       "      <td>21</td>\n",
       "      <td>0.35</td>\n",
       "      <td>0.01</td>\n",
       "    </tr>\n",
       "    <tr>\n",
       "      <td>28</td>\n",
       "      <td>207</td>\n",
       "      <td>1</td>\n",
       "      <td>nan x 207</td>\n",
       "      <td>207</td>\n",
       "      <td>3.45</td>\n",
       "      <td>0.14</td>\n",
       "    </tr>\n",
       "    <tr>\n",
       "      <td>29</td>\n",
       "      <td>261</td>\n",
       "      <td>1</td>\n",
       "      <td>nan x 261</td>\n",
       "      <td>261</td>\n",
       "      <td>4.35</td>\n",
       "      <td>0.18</td>\n",
       "    </tr>\n",
       "    <tr>\n",
       "      <td>30</td>\n",
       "      <td>58</td>\n",
       "      <td>1</td>\n",
       "      <td>nan x 58</td>\n",
       "      <td>58</td>\n",
       "      <td>0.97</td>\n",
       "      <td>0.04</td>\n",
       "    </tr>\n",
       "    <tr>\n",
       "      <td>31</td>\n",
       "      <td>46</td>\n",
       "      <td>1</td>\n",
       "      <td>nan x 46</td>\n",
       "      <td>46</td>\n",
       "      <td>0.77</td>\n",
       "      <td>0.03</td>\n",
       "    </tr>\n",
       "    <tr>\n",
       "      <td>32</td>\n",
       "      <td>29</td>\n",
       "      <td>1</td>\n",
       "      <td>nan x 29</td>\n",
       "      <td>29</td>\n",
       "      <td>0.48</td>\n",
       "      <td>0.02</td>\n",
       "    </tr>\n",
       "    <tr>\n",
       "      <td>33</td>\n",
       "      <td>44</td>\n",
       "      <td>1</td>\n",
       "      <td>nan x 44</td>\n",
       "      <td>44</td>\n",
       "      <td>0.73</td>\n",
       "      <td>0.03</td>\n",
       "    </tr>\n",
       "    <tr>\n",
       "      <td>34</td>\n",
       "      <td>43</td>\n",
       "      <td>1</td>\n",
       "      <td>nan x 43</td>\n",
       "      <td>43</td>\n",
       "      <td>0.72</td>\n",
       "      <td>0.03</td>\n",
       "    </tr>\n",
       "    <tr>\n",
       "      <td>35</td>\n",
       "      <td>8009</td>\n",
       "      <td>1</td>\n",
       "      <td>nan x 8009</td>\n",
       "      <td>8009</td>\n",
       "      <td>133.48</td>\n",
       "      <td>5.56</td>\n",
       "    </tr>\n",
       "    <tr>\n",
       "      <td>36</td>\n",
       "      <td>74</td>\n",
       "      <td>1</td>\n",
       "      <td>nan x 74</td>\n",
       "      <td>74</td>\n",
       "      <td>1.23</td>\n",
       "      <td>0.05</td>\n",
       "    </tr>\n",
       "    <tr>\n",
       "      <td>37</td>\n",
       "      <td>26</td>\n",
       "      <td>1</td>\n",
       "      <td>nan x 26</td>\n",
       "      <td>26</td>\n",
       "      <td>0.43</td>\n",
       "      <td>0.02</td>\n",
       "    </tr>\n",
       "    <tr>\n",
       "      <td>38</td>\n",
       "      <td>1589</td>\n",
       "      <td>1</td>\n",
       "      <td>nan x 1589</td>\n",
       "      <td>1589</td>\n",
       "      <td>26.48</td>\n",
       "      <td>1.10</td>\n",
       "    </tr>\n",
       "    <tr>\n",
       "      <td>39</td>\n",
       "      <td>57</td>\n",
       "      <td>1</td>\n",
       "      <td>nan x 57</td>\n",
       "      <td>57</td>\n",
       "      <td>0.95</td>\n",
       "      <td>0.04</td>\n",
       "    </tr>\n",
       "    <tr>\n",
       "      <td>40</td>\n",
       "      <td>41</td>\n",
       "      <td>1</td>\n",
       "      <td>nan x 41</td>\n",
       "      <td>41</td>\n",
       "      <td>0.68</td>\n",
       "      <td>0.03</td>\n",
       "    </tr>\n",
       "    <tr>\n",
       "      <td>41</td>\n",
       "      <td>152</td>\n",
       "      <td>1</td>\n",
       "      <td>nan x 152</td>\n",
       "      <td>152</td>\n",
       "      <td>2.53</td>\n",
       "      <td>0.11</td>\n",
       "    </tr>\n",
       "    <tr>\n",
       "      <td>42</td>\n",
       "      <td>24</td>\n",
       "      <td>1</td>\n",
       "      <td>nan x 24</td>\n",
       "      <td>24</td>\n",
       "      <td>0.40</td>\n",
       "      <td>0.02</td>\n",
       "    </tr>\n",
       "    <tr>\n",
       "      <td>43</td>\n",
       "      <td>15</td>\n",
       "      <td>1</td>\n",
       "      <td>nan x 15</td>\n",
       "      <td>15</td>\n",
       "      <td>0.25</td>\n",
       "      <td>0.01</td>\n",
       "    </tr>\n",
       "    <tr>\n",
       "      <td>44</td>\n",
       "      <td>7541</td>\n",
       "      <td>1</td>\n",
       "      <td>nan x 7541</td>\n",
       "      <td>7541</td>\n",
       "      <td>125.68</td>\n",
       "      <td>5.24</td>\n",
       "    </tr>\n",
       "    <tr>\n",
       "      <td>45</td>\n",
       "      <td>1072</td>\n",
       "      <td>1</td>\n",
       "      <td>nan x 1072</td>\n",
       "      <td>1072</td>\n",
       "      <td>17.87</td>\n",
       "      <td>0.74</td>\n",
       "    </tr>\n",
       "  </tbody>\n",
       "</table>\n",
       "</div>"
      ],
      "text/plain": [
       "    NaNType  NaNFrequency Consec_Nan_Types  length_in_mn  length_in_hrs  \\\n",
       "0         1         21528          nan x 1         21528         358.80   \n",
       "1         2           710          nan x 2          1420          23.67   \n",
       "2        14           315         nan x 14          4410          73.50   \n",
       "3         3            68          nan x 3           204           3.40   \n",
       "4         4            24          nan x 4            96           1.60   \n",
       "5         5            21          nan x 5           105           1.75   \n",
       "6         6            21          nan x 6           126           2.10   \n",
       "7         7            11          nan x 7            77           1.28   \n",
       "8         8            11          nan x 8            88           1.47   \n",
       "9         9             7          nan x 9            63           1.05   \n",
       "10       12             7         nan x 12            84           1.40   \n",
       "11       11             6         nan x 11            66           1.10   \n",
       "12       10             4         nan x 10            40           0.67   \n",
       "13       13             4         nan x 13            52           0.87   \n",
       "14       60             3         nan x 60           180           3.00   \n",
       "15       22             2         nan x 22            44           0.73   \n",
       "16       18             2         nan x 18            36           0.60   \n",
       "17       25             2         nan x 25            50           0.83   \n",
       "18      388             1        nan x 388           388           6.47   \n",
       "19     4134             1       nan x 4134          4134          68.90   \n",
       "20       51             1         nan x 51            51           0.85   \n",
       "21      835             1        nan x 835           835          13.92   \n",
       "22      227             1        nan x 227           227           3.78   \n",
       "23       69             1         nan x 69            69           1.15   \n",
       "24      513             1        nan x 513           513           8.55   \n",
       "25       97             1         nan x 97            97           1.62   \n",
       "26       49             1         nan x 49            49           0.82   \n",
       "27       21             1         nan x 21            21           0.35   \n",
       "28      207             1        nan x 207           207           3.45   \n",
       "29      261             1        nan x 261           261           4.35   \n",
       "30       58             1         nan x 58            58           0.97   \n",
       "31       46             1         nan x 46            46           0.77   \n",
       "32       29             1         nan x 29            29           0.48   \n",
       "33       44             1         nan x 44            44           0.73   \n",
       "34       43             1         nan x 43            43           0.72   \n",
       "35     8009             1       nan x 8009          8009         133.48   \n",
       "36       74             1         nan x 74            74           1.23   \n",
       "37       26             1         nan x 26            26           0.43   \n",
       "38     1589             1       nan x 1589          1589          26.48   \n",
       "39       57             1         nan x 57            57           0.95   \n",
       "40       41             1         nan x 41            41           0.68   \n",
       "41      152             1        nan x 152           152           2.53   \n",
       "42       24             1         nan x 24            24           0.40   \n",
       "43       15             1         nan x 15            15           0.25   \n",
       "44     7541             1       nan x 7541          7541         125.68   \n",
       "45     1072             1       nan x 1072          1072          17.87   \n",
       "\n",
       "    length_in_day  \n",
       "0           14.95  \n",
       "1            0.99  \n",
       "2            3.06  \n",
       "3            0.14  \n",
       "4            0.07  \n",
       "5            0.07  \n",
       "6            0.09  \n",
       "7            0.05  \n",
       "8            0.06  \n",
       "9            0.04  \n",
       "10           0.06  \n",
       "11           0.05  \n",
       "12           0.03  \n",
       "13           0.04  \n",
       "14           0.12  \n",
       "15           0.03  \n",
       "16           0.02  \n",
       "17           0.03  \n",
       "18           0.27  \n",
       "19           2.87  \n",
       "20           0.04  \n",
       "21           0.58  \n",
       "22           0.16  \n",
       "23           0.05  \n",
       "24           0.36  \n",
       "25           0.07  \n",
       "26           0.03  \n",
       "27           0.01  \n",
       "28           0.14  \n",
       "29           0.18  \n",
       "30           0.04  \n",
       "31           0.03  \n",
       "32           0.02  \n",
       "33           0.03  \n",
       "34           0.03  \n",
       "35           5.56  \n",
       "36           0.05  \n",
       "37           0.02  \n",
       "38           1.10  \n",
       "39           0.04  \n",
       "40           0.03  \n",
       "41           0.11  \n",
       "42           0.02  \n",
       "43           0.01  \n",
       "44           5.24  \n",
       "45           0.74  "
      ]
     },
     "execution_count": 20,
     "metadata": {},
     "output_type": "execute_result"
    }
   ],
   "source": [
    "# Get an aggregate sum of the consecutive NaNs by group of non-NaN values of the columns\n",
    "non_nan_cum =  df['WFLOW'].notnull().astype(int).cumsum()\n",
    "\n",
    "nan_group = df['WFLOW'].isna().groupby(non_nan_cum).agg('sum')\n",
    "\n",
    "# Consecutive NaN counts as dataframe\n",
    "nan_group_df = pd.DataFrame(nan_group[nan_group != 0].astype(int).value_counts())\n",
    "\n",
    "nan_group_df.reset_index(inplace = True)\n",
    "\n",
    "nan_group_df.rename(columns={\"index\" : \"NaNType\", \"WFLOW\" : \"NaNFrequency\" }, inplace= True)\n",
    "\n",
    "#aapend 'nan' to NaN types\n",
    "nan_group_df['Consec_Nan_Types'] = ['nan x '+str(i) for i in nan_group_df['NaNType']]\n",
    "\n",
    "# Column NaN length in minute\n",
    "nan_group_df['length_in_mn'] = nan_group_df['NaNType']*nan_group_df['NaNFrequency']\n",
    "\n",
    "# Column NaN length in hour\n",
    "nan_group_df['length_in_hrs'] = np.round(nan_group_df['length_in_mn']/60, 2)\n",
    "# NaN length in day\n",
    "nan_group_df['length_in_day'] = np.round(nan_group_df['length_in_hrs']/24, 2)\n",
    "\n",
    "nan_group_df\n",
    "\n",
    "#print(nan_group_df)\n",
    "\n",
    "#Consecutive NaN filter\n",
    "\n",
    "#nan_group_df = nan_group_df[(nan_group_df['NaNType']>1) & (nan_group_df['length_in_day'] >= 0.5)]\n",
    "#nan_group_df.sort_values(by = ['length_in_day'],ascending = False)\n",
    "\n",
    "\n"
   ]
  },
  {
   "cell_type": "code",
   "execution_count": 21,
   "metadata": {},
   "outputs": [
    {
     "data": {
      "text/plain": [
       "46"
      ]
     },
     "execution_count": 21,
     "metadata": {},
     "output_type": "execute_result"
    }
   ],
   "source": [
    "len(nan_group_df)"
   ]
  },
  {
   "cell_type": "code",
   "execution_count": 28,
   "metadata": {},
   "outputs": [
    {
     "data": {
      "text/plain": [
       "54341"
      ]
     },
     "execution_count": 28,
     "metadata": {},
     "output_type": "execute_result"
    }
   ],
   "source": [
    "pp= nan_group_df['NaNFrequency']*nan_group_df['NaNType']\n",
    "pp.sum()"
   ]
  },
  {
   "cell_type": "code",
   "execution_count": null,
   "metadata": {},
   "outputs": [],
   "source": []
  },
  {
   "cell_type": "code",
   "execution_count": 10,
   "metadata": {},
   "outputs": [
    {
     "data": {
      "text/plain": [
       "<matplotlib.legend.Legend at 0x28dcc8b47c8>"
      ]
     },
     "execution_count": 10,
     "metadata": {},
     "output_type": "execute_result"
    },
    {
     "data": {
      "image/png": "[encoded data removed]",
      "text/plain": [
       "<Figure size 1224x504 with 1 Axes>"
      ]
     },
     "metadata": {},
     "output_type": "display_data"
    }
   ],
   "source": [
    "# Plot Consecutive NaNs\n",
    "sns.set_style(\"darkgrid\")\n",
    "sns.set(font_scale= 1.5)\n",
    "plt.figure(figsize=(17,7))\n",
    "cons_bar= sns.barplot(x='Consec_Nan_Types', \n",
    "            y=\"length_in_day\", \n",
    "            data=nan_group_df, \n",
    "           # color= 'red', \n",
    "           hue= 'NaNFrequency',\n",
    "           dodge= False,           \n",
    "        \n",
    "            order=nan_group_df.sort_values('length_in_day',ascending = False).Consec_Nan_Types)\n",
    "# for b in cons_bar.patches:\n",
    "#     cons_bar.annotate(format(b.get_height(), '.2f'), \n",
    "#                       (b.get_x() + b.get_width() / 2., b.get_height()), \n",
    "#                       ha = 'center', va = 'center',\n",
    "#                       xytext = (0, 9),\n",
    "#                       textcoords = 'offset points')\n",
    "\n",
    "\n",
    "# Label settings\n",
    "plt.xlabel(\"Consecutive NaNs\", size = 20)\n",
    "plt.ylabel(\"NaN length in (days)\", size=20)\n",
    "plt.title(\"Consecutive NaNs and their lengths in day \", size=25)\n",
    "plt.legend(title = 'NaN frequency')\n",
    "#plt.tight_layout()"
   ]
  },
  {
   "cell_type": "code",
   "execution_count": null,
   "metadata": {},
   "outputs": [],
   "source": [
    "data=nan_group_df\n",
    "import plotly.graph_objects as go\n",
    "\n",
    "\n",
    "fig = go.Figure([go.Bar(x=data['Consec_Nan_Types'], y=data[\"length_in_day\"])])\n",
    "fig.show()\n"
   ]
  },
  {
   "cell_type": "code",
   "execution_count": null,
   "metadata": {},
   "outputs": [],
   "source": [
    "fig = px.bar(nan_group_df.sort_values('length_in_day',ascending = False),\\\n",
    "              x='Consec_Nan_Types',  y=\"length_in_day\",\n",
    "            title= 'Consecutive NaNs vs Frequency',           \n",
    "            labels={\n",
    "                     \"Consec_Nan_Types\": \"Consecutive NaN Types\",\n",
    "                     \"length_in_day\": \"NaN Frequency in Day\"})\n",
    "fig.update_traces(texttemplate='%{length_in_day:.2s}', textposition='outside')\n",
    "fig.update_layout(uniformtext_minsize=8, uniformtext_mode='hide')\n",
    "\n",
    "\n",
    "fig.update_layout(showlegend = True)\n",
    "fig.update(layout=dict(title=dict(x=0.5)))\n",
    "fig.show()"
   ]
  },
  {
   "cell_type": "markdown",
   "metadata": {},
   "source": [
    "## Get Consecuive NaN indices"
   ]
  },
  {
   "cell_type": "code",
   "execution_count": null,
   "metadata": {},
   "outputs": [],
   "source": [
    "consecu_nan = 8009\n",
    "df['non-nan_group']= non_nan_cum\n",
    "dfp= df[df.WFLOW.isnull()]\n",
    "dfp=dfp[dfp['non-nan_group'].isin(dfp['non-nan_group'].value_counts()\\\n",
    "                               [dfp['non-nan_group'].value_counts()== consecu_nan].index)]\n",
    "print(dfp.index)\n"
   ]
  },
  {
   "cell_type": "code",
   "execution_count": null,
   "metadata": {},
   "outputs": [],
   "source": []
  },
  {
   "cell_type": "code",
   "execution_count": null,
   "metadata": {},
   "outputs": [],
   "source": [
    " reindex_df['WFLOW']['2015-02-19': '2015-02-27'].iplot();"
   ]
  },
  {
   "cell_type": "code",
   "execution_count": null,
   "metadata": {},
   "outputs": [],
   "source": [
    " reindex_df['WFLOW']['2014-06-14': '2014-06-21'].iplot();"
   ]
  },
  {
   "cell_type": "code",
   "execution_count": null,
   "metadata": {},
   "outputs": [],
   "source": []
  },
  {
   "cell_type": "markdown",
   "metadata": {},
   "source": [
    "## Consecutive NaN filtering "
   ]
  },
  {
   "cell_type": "code",
   "execution_count": null,
   "metadata": {},
   "outputs": [],
   "source": [
    "# Consider dataset consisting only the consecutive NaNs less than 7541.\n",
    "\n",
    "non_nan_cum =  df['WFLOW'].notnull().astype(int).cumsum()\n",
    "consecu_nan = 1440\n",
    "df['non-nan_group']= non_nan_cum\n",
    "df_nan_filter =~(df['non-nan_group'].isin(df['non-nan_group'].value_counts()\\\n",
    "                               [df['non-nan_group'].value_counts() > consecu_nan].index))\n",
    "#print(dfp.index)\n",
    "df_nan_filter = df[df_nan_filter]\n",
    "df_nan_filter.drop(['non-nan_group'], axis = 1, inplace = True)\n",
    "\n",
    "df_nan_filter\n",
    "#df = df_nan_filter\n",
    "#df = df_nan_filter\n",
    "#df\n",
    "                 "
   ]
  },
  {
   "cell_type": "code",
   "execution_count": null,
   "metadata": {},
   "outputs": [],
   "source": [
    "df.drop(['non-nan_group'], axis = 1, inplace = True)\n",
    "df"
   ]
  },
  {
   "cell_type": "code",
   "execution_count": null,
   "metadata": {},
   "outputs": [],
   "source": []
  },
  {
   "cell_type": "code",
   "execution_count": null,
   "metadata": {},
   "outputs": [],
   "source": []
  },
  {
   "cell_type": "code",
   "execution_count": null,
   "metadata": {},
   "outputs": [],
   "source": [
    "#len(df[df['WFLOW']==0.0])"
   ]
  },
  {
   "cell_type": "code",
   "execution_count": null,
   "metadata": {},
   "outputs": [],
   "source": [
    "# #%matplotlib notebook\n",
    "# series = df.WFLOW.fillna(method= 'ffill')\n",
    "# #ws =[30, 1.80]\n",
    "# pp= outlier_detection2(series,5,1.45)\n",
    "# #series[pp]\n",
    "# print(len(series[pp]))\n",
    "# #plot_anomaly_data2(series, series[pp])"
   ]
  },
  {
   "cell_type": "code",
   "execution_count": null,
   "metadata": {},
   "outputs": [],
   "source": [
    "df['WFLOW'].isnull().head(10)"
   ]
  },
  {
   "cell_type": "markdown",
   "metadata": {},
   "source": [
    "Create a column contains NaN values using forward fill method"
   ]
  },
  {
   "cell_type": "code",
   "execution_count": null,
   "metadata": {},
   "outputs": [],
   "source": [
    "nan_lenght = len(df[df.WFLOW.isna()])\n",
    "nan_lenght\n"
   ]
  },
  {
   "cell_type": "code",
   "execution_count": null,
   "metadata": {},
   "outputs": [],
   "source": [
    "b_col =  np.where(df['WFLOW'].isnull(), 0, 1)\n",
    "df['FilledNaN'] = b_col \n",
    "df.head(10)"
   ]
  },
  {
   "cell_type": "code",
   "execution_count": null,
   "metadata": {},
   "outputs": [],
   "source": [
    "df.columns"
   ]
  },
  {
   "cell_type": "code",
   "execution_count": null,
   "metadata": {},
   "outputs": [],
   "source": [
    " df[df['WFLOW'] == 0.0 ]"
   ]
  },
  {
   "cell_type": "code",
   "execution_count": null,
   "metadata": {},
   "outputs": [],
   "source": [
    "# df_median = np.mean(df[df['WFLOW'] > 0])\n",
    "# df[df['WFLOW']==0.0] = df_median\n",
    "# df_median"
   ]
  },
  {
   "cell_type": "code",
   "execution_count": null,
   "metadata": {},
   "outputs": [],
   "source": [
    "df = df[df['WFLOW'] != 0.0]"
   ]
  },
  {
   "cell_type": "code",
   "execution_count": null,
   "metadata": {},
   "outputs": [],
   "source": [
    "df"
   ]
  },
  {
   "cell_type": "code",
   "execution_count": null,
   "metadata": {},
   "outputs": [],
   "source": []
  },
  {
   "cell_type": "code",
   "execution_count": null,
   "metadata": {},
   "outputs": [],
   "source": [
    "\n",
    "series = df.WFLOW.fillna(method= 'ffill')\n",
    "#ws =[30, 1.80]\n",
    "pp= outlier_detection2(series,5,1.30)\n",
    "series[pp]\n",
    "print(len(series[pp]))\n",
    "#plot_anomaly_data22(series, series[pp])"
   ]
  },
  {
   "cell_type": "code",
   "execution_count": null,
   "metadata": {},
   "outputs": [],
   "source": []
  },
  {
   "cell_type": "code",
   "execution_count": null,
   "metadata": {},
   "outputs": [],
   "source": [
    "df"
   ]
  },
  {
   "cell_type": "markdown",
   "metadata": {},
   "source": [
    "## Rolling Window implementation "
   ]
  },
  {
   "cell_type": "code",
   "execution_count": null,
   "metadata": {},
   "outputs": [],
   "source": [
    "window = 25\n",
    "#df.drop(['FilledNaN'], inplace = True)\n",
    "df['WFLOW'].fillna(method= 'ffill', inplace = True)\n",
    "df['r_std']= df['WFLOW'].rolling(window).std()\n",
    "df['r_mean'] = df['WFLOW'].rolling(window).mean()\n",
    "#df.drop(df.index[0:(window-1)], inplace= True)\n",
    "df.fillna(method= 'bfill', inplace = True)\n",
    "df"
   ]
  },
  {
   "cell_type": "code",
   "execution_count": null,
   "metadata": {},
   "outputs": [],
   "source": [
    "df"
   ]
  },
  {
   "cell_type": "code",
   "execution_count": null,
   "metadata": {},
   "outputs": [],
   "source": [
    "df"
   ]
  },
  {
   "cell_type": "code",
   "execution_count": null,
   "metadata": {},
   "outputs": [],
   "source": [
    "window_list = range(5,35,5)\n",
    "weight_list = [1.30, 1.45]\n",
    "for w in window_list:\n",
    "    \n",
    "    df['WFLOW'].fillna(method= 'ffill', inplace = True)\n",
    "    df['r_std']= df['WFLOW'].rolling(w).std()\n",
    "    df['r_mean'] = df['WFLOW'].rolling(w).mean()\n",
    "    df.fillna(method= 'bfill', inplace = True)\n",
    "    for i in weight_list:\n",
    "        outlier_min = df['r_mean']- df['r_std']*i\n",
    "        outlier_max = df['r_mean']+ df['r_std']*i\n",
    "        outlier_df = df[(df['WFLOW'] < outlier_min.values) | (df['WFLOW'] > outlier_max.values)]\n",
    "    print('length: {} \\n WFLOW was NaN: {}' .format(len(outlier_df), len(outlier_df[outlier_df['FilledNaN'] == 0])))\n",
    "        \n",
    "#df = df[['WFLOW', 'r_std', 'r_mean']]\n",
    "    "
   ]
  },
  {
   "cell_type": "code",
   "execution_count": null,
   "metadata": {},
   "outputs": [],
   "source": []
  },
  {
   "cell_type": "code",
   "execution_count": null,
   "metadata": {},
   "outputs": [],
   "source": [
    "window_list = [5, 10, 15, 20, 25, 30]\n",
    "weight_list = [1.30, 1.45, 1.60, 1.75, 1.90, 2.00]\n",
    "outlier_list = [] # the list containing the computed outliers for each combinaition\n",
    "for w in range(0, len(window_list)):\n",
    "    print(\"------------ w = {} ------------\\n\". format(window_list[w]))\n",
    "    for i in range(0, len(weight_list)):\n",
    "        # mean and standard deviation  rolling windows\n",
    "        df['WFLOW'].fillna(method= 'ffill', inplace = True)\n",
    "        df['r_std']= df['WFLOW'].rolling(window_list[w]).std()\n",
    "        df['r_mean'] = df['WFLOW'].rolling(window_list[w]).mean()\n",
    "        df.fillna(method= 'bfill', inplace = True)\n",
    "        # Compute dan create outlier data lists   # \n",
    "        outlier_min = df['r_mean']- df['r_std']* weight_list[i]\n",
    "        outlier_max = df['r_mean']+ df['r_std']*weight_list[i]\n",
    "        outlier_df = df[(df['WFLOW'] < outlier_min.values) | (df['WFLOW'] > outlier_max.values)]\n",
    "        outlier_list.append(outlier_df) # update the list \n",
    "        print('length: {} \\n WFLOW was NaN: {}' .format(len(outlier_df), len(outlier_df[outlier_df['FilledNaN'] == 0])))"
   ]
  },
  {
   "cell_type": "code",
   "execution_count": null,
   "metadata": {},
   "outputs": [],
   "source": [
    "len(outlier_list) # the list contains 36 combinaitions of parameters (df, w, stdw)\n",
    "outlier_list[0] # ----> (5, 1.30)\n"
   ]
  },
  {
   "cell_type": "code",
   "execution_count": null,
   "metadata": {
    "scrolled": false
   },
   "outputs": [],
   "source": [
    "\n",
    "random.seed(101)  # s\n",
    "#window = 5\n",
    "dweigth =1.77 ## make array of weigth here !!!!\n",
    "\n",
    "    \n",
    "outlier_min = df['r_mean']- df['r_std']*dweigth\n",
    "#print(outlier_min.values)\n",
    "#print(outlier_min)\n",
    "\n",
    "outlier_max = df['r_mean']+ df['r_std']*dweigth\n",
    "#print(outlier_max.values)\n",
    "#print(outlier_max)\n",
    "\n",
    "\n",
    "    \n",
    "\n",
    "\n",
    "outlier_df = df[(df['WFLOW'] < outlier_min.values) | (df['WFLOW'] > outlier_max.values)]\n",
    "#outlier_df = outlier_df.drop(['r_mean', 'r_std'], inplace = True)\n",
    "#print(outlier_df[outlier_df['FilledNaN'] == 0].head(20))\n",
    "#print(outlier_df.index)\n",
    "#print(outlier_df.min())\n",
    "\n",
    "\n",
    "# visualization\n",
    "\n",
    "\n",
    "# fig, ax = plt.subplots(figsize=(17,7))\n",
    "# ax.plot(df.index, df['WFLOW'], color='blue', label = 'WFLOW Values')\n",
    "# ax.scatter(outlier_df.index ,outlier_df['WFLOW'], color='red', label='Outliers',  marker = 'o', s = 100)\n",
    "# plt.legend()\n",
    "# plt.show()"
   ]
  },
  {
   "cell_type": "code",
   "execution_count": null,
   "metadata": {},
   "outputs": [],
   "source": [
    "df"
   ]
  },
  {
   "cell_type": "code",
   "execution_count": null,
   "metadata": {},
   "outputs": [],
   "source": [
    "random.seed(101)\n",
    "dweigth = 2.00 ## make array of weigth here \n",
    "    \n",
    "outlier_min = df['r_mean']- df['r_std']*dweigth\n",
    "\n",
    "outlier_max = df['r_mean']+ df['r_std']*dweigth\n",
    "outlier_df = df[(df['WFLOW'] < outlier_min.values) | (df['WFLOW'] > outlier_max.values)]\n",
    "#print(outlier_df.index)\n",
    "\n",
    "outlier_df"
   ]
  },
  {
   "cell_type": "code",
   "execution_count": null,
   "metadata": {},
   "outputs": [],
   "source": [
    "outlier_min.values"
   ]
  },
  {
   "cell_type": "code",
   "execution_count": null,
   "metadata": {},
   "outputs": [],
   "source": [
    "random.seed(101)\n",
    "dweigth_list = [1.30, 1.45, 1.60, 1.75, 1.90, 2.00] ## make array of weigth here \n",
    "for i in dweigth_list:\n",
    "    outlier_min = df['r_mean']- df['r_std']*i\n",
    "    outlier_max = df['r_mean']+ df['r_std']*i\n",
    "    outlier_df = df[(df['WFLOW'] < outlier_min.values) | (df['WFLOW'] > outlier_max.values)]\n",
    "    print('length: {} \\n WFLOW was NaN: {}' .format(len(outlier_df), len(outlier_df[outlier_df['FilledNaN'] == 0])))"
   ]
  },
  {
   "cell_type": "code",
   "execution_count": null,
   "metadata": {},
   "outputs": [],
   "source": []
  },
  {
   "cell_type": "code",
   "execution_count": null,
   "metadata": {},
   "outputs": [],
   "source": []
  },
  {
   "cell_type": "code",
   "execution_count": null,
   "metadata": {},
   "outputs": [],
   "source": []
  },
  {
   "cell_type": "code",
   "execution_count": null,
   "metadata": {},
   "outputs": [],
   "source": [
    "outlier_df[outlier_df['WFLOW'] == 0.0]"
   ]
  },
  {
   "cell_type": "code",
   "execution_count": null,
   "metadata": {},
   "outputs": [],
   "source": [
    "outlier_df[outlier_df['FilledNaN'] == 0]"
   ]
  },
  {
   "cell_type": "code",
   "execution_count": null,
   "metadata": {},
   "outputs": [],
   "source": [
    "# fig, ax = plt.subplots(figsize=(17,7))\n",
    "# ax.plot(df.index, df['WFLOW'], color='blue', label = 'WFLOW Values')\n",
    "# ax.scatter(outlier_df.index ,outlier_df['WFLOW'], color='red', label='Outliers',  marker = 'o', s = 100)\n",
    "# plt.legend()\n",
    "# plt.show()"
   ]
  },
  {
   "cell_type": "code",
   "execution_count": null,
   "metadata": {},
   "outputs": [],
   "source": [
    "# outlier_data = go.Scattergl(x = outlier_df.index, y = outlier_df['WFLOW'], mode = 'markers', name = 'Outlier Points')\n",
    "# df_data = go.Scattergl(x = df.index, y = df['WFLOW'], mode = 'lines', name = 'Actual Data')\n",
    "# layout = go.Layout(title = 'Outlier data points', xaxis = dict(title = 'DATE'),\n",
    "#                                                                yaxis = dict(title = 'WFLOW'))\n",
    "# fig = go.Figure(data = [outlier_data, df_data], layout = layout)\n",
    "# py.iplot(fig)"
   ]
  },
  {
   "cell_type": "code",
   "execution_count": null,
   "metadata": {},
   "outputs": [],
   "source": [
    "outlier_min"
   ]
  },
  {
   "cell_type": "code",
   "execution_count": null,
   "metadata": {},
   "outputs": [],
   "source": [
    "outlier_df['WFLOW']"
   ]
  },
  {
   "cell_type": "code",
   "execution_count": null,
   "metadata": {},
   "outputs": [],
   "source": [
    "series = df['WFLOW']\n",
    "outlier_df = outlier_df['WFLOW']\n",
    "plot_anomaly_data2(series, outlier_df)"
   ]
  },
  {
   "cell_type": "code",
   "execution_count": null,
   "metadata": {},
   "outputs": [],
   "source": [
    "fig = go.Figure()\n",
    "\n",
    "# Add traces\n",
    "fig.add_trace(go.Scattergl(x = outlier_df.index, y = outlier_df['WFLOW'].values,\n",
    "                    mode='markers',\n",
    "                    name='Outliers Points'))\n",
    "fig.add_trace(go.Scattergl(x = df.index, y = df['WFLOW'].values, mode = 'lines',\n",
    "                    name='Actual Data'))\n",
    "\n",
    "fig.show()"
   ]
  },
  {
   "cell_type": "code",
   "execution_count": null,
   "metadata": {},
   "outputs": [],
   "source": []
  },
  {
   "cell_type": "code",
   "execution_count": null,
   "metadata": {},
   "outputs": [],
   "source": [
    "series = df['WFLOW']\n",
    "outlier_df = outlier_df['WFLOW']\n",
    "low_bound = outlier_min\n",
    "upper_bound = outlier_max\n",
    "plot_anomaly_data_bounded(series, outlier_df, low_bound, upper_bound)\n"
   ]
  },
  {
   "cell_type": "code",
   "execution_count": null,
   "metadata": {},
   "outputs": [],
   "source": []
  },
  {
   "cell_type": "code",
   "execution_count": null,
   "metadata": {},
   "outputs": [],
   "source": [
    "fig = go.Figure()\n",
    "\n",
    "# Add traces\n",
    "fig.add_trace(go.Scattergl(x = outlier_df.index, y = outlier_df['WFLOW'],\n",
    "                    mode='markers',\n",
    "                    name='Outliers Points'))\n",
    "fig.add_trace(go.Scattergl(x = df.index, y = df['WFLOW'], mode = 'lines',\n",
    "                    name='Actual Data'))\n",
    "fig.add_trace(go.Scattergl(x = outlier_min.index, y = outlier_min.values, mode = 'lines',\n",
    "                    name='Low Bound'))\n",
    "fig.add_trace(go.Scattergl(x = outlier_max.index, y = outlier_max.values, mode = 'lines',\n",
    "                    name='Upper Bound'))\n",
    "\n",
    "\n",
    "fig.show()"
   ]
  },
  {
   "cell_type": "code",
   "execution_count": null,
   "metadata": {},
   "outputs": [],
   "source": []
  },
  {
   "cell_type": "code",
   "execution_count": null,
   "metadata": {},
   "outputs": [],
   "source": [
    "    "
   ]
  },
  {
   "cell_type": "code",
   "execution_count": null,
   "metadata": {},
   "outputs": [],
   "source": []
  },
  {
   "cell_type": "code",
   "execution_count": null,
   "metadata": {},
   "outputs": [],
   "source": []
  },
  {
   "cell_type": "code",
   "execution_count": null,
   "metadata": {},
   "outputs": [],
   "source": []
  },
  {
   "cell_type": "code",
   "execution_count": null,
   "metadata": {},
   "outputs": [],
   "source": []
  },
  {
   "cell_type": "code",
   "execution_count": null,
   "metadata": {},
   "outputs": [],
   "source": []
  }
 ],
 "metadata": {
  "kernelspec": {
   "display_name": "Python 3",
   "language": "python",
   "name": "python3"
  },
  "language_info": {
   "codemirror_mode": {
    "name": "ipython",
    "version": 3
   },
   "file_extension": ".py",
   "mimetype": "text/x-python",
   "name": "python",
   "nbconvert_exporter": "python",
   "pygments_lexer": "ipython3",
   "version": "3.7.4"
  }
 },
 "nbformat": 4,
 "nbformat_minor": 2
}
